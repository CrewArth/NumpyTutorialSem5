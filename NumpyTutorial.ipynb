{
 "cells": [
  {
   "cell_type": "markdown",
   "id": "df044518",
   "metadata": {},
   "source": [
    "Data Science #2 - NUMPY"
   ]
  },
  {
   "cell_type": "code",
   "execution_count": 3,
   "id": "6e3c0d49",
   "metadata": {},
   "outputs": [],
   "source": [
    "import numpy as np\n",
    "\n",
    "\n",
    "#Create a Array using Numpy\n",
    "Array = np.array([10,20,30,40,50])\n"
   ]
  },
  {
   "cell_type": "code",
   "execution_count": 6,
   "id": "ab50ae14",
   "metadata": {},
   "outputs": [
    {
     "name": "stdout",
     "output_type": "stream",
     "text": [
      "<class 'numpy.ndarray'>\n"
     ]
    }
   ],
   "source": [
    "#Give Datatype explicitly\n",
    "dtypee = np.array([1,2,3,4], dtype=\"float\")\n",
    "print(type(dtypee))"
   ]
  },
  {
   "cell_type": "code",
   "execution_count": 9,
   "id": "26415640",
   "metadata": {},
   "outputs": [
    {
     "ename": "SyntaxError",
     "evalue": "invalid syntax (765241960.py, line 7)",
     "output_type": "error",
     "traceback": [
      "\u001b[1;36m  Cell \u001b[1;32mIn[9], line 7\u001b[1;36m\u001b[0m\n\u001b[1;33m    newmd = np.array(range(i,i+3), for i in [2,4,6])\u001b[0m\n\u001b[1;37m                                   ^\u001b[0m\n\u001b[1;31mSyntaxError\u001b[0m\u001b[1;31m:\u001b[0m invalid syntax\n"
     ]
    }
   ],
   "source": [
    "#Create Multidimentional Array\n",
    "\n",
    "mD = np.array([[1,2,3],[4,5,6],[7,8,9]])\n",
    "print(mD)\n",
    "\n",
    "#Other Way\n",
    "# newmd = np.array(range(i,i+3), for i in [2,4,6])\n",
    "newmd"
   ]
  },
  {
   "cell_type": "code",
   "execution_count": 12,
   "id": "32bd60f8",
   "metadata": {},
   "outputs": [
    {
     "data": {
      "text/plain": [
       "array([0, 0, 0, 0, 0, 0, 0, 0, 0, 0])"
      ]
     },
     "execution_count": 12,
     "metadata": {},
     "output_type": "execute_result"
    }
   ],
   "source": [
    "#Create Array of zeros\n",
    "np.zeros(10,dtype='int')"
   ]
  },
  {
   "cell_type": "code",
   "execution_count": 18,
   "id": "473ba543",
   "metadata": {},
   "outputs": [
    {
     "name": "stdout",
     "output_type": "stream",
     "text": [
      "2\n"
     ]
    }
   ],
   "source": [
    "#Create Array of Any Number\n",
    "Array3 = np.full((5,5), 10) #full((row,col),number)\n",
    "\n",
    "print(Array3.ndim)"
   ]
  },
  {
   "cell_type": "code",
   "execution_count": 19,
   "id": "e3b798a8",
   "metadata": {},
   "outputs": [
    {
     "name": "stdout",
     "output_type": "stream",
     "text": [
      "1\n"
     ]
    }
   ],
   "source": [
    "#To Check Datatype of array\n",
    "Array2 = np.array([10,20,30,40,50])\n",
    "print(Array2.ndim)\n"
   ]
  },
  {
   "cell_type": "code",
   "execution_count": null,
   "id": "d419973f",
   "metadata": {},
   "outputs": [],
   "source": []
  }
 ],
 "metadata": {
  "kernelspec": {
   "display_name": "Python 3 (ipykernel)",
   "language": "python",
   "name": "python3"
  },
  "language_info": {
   "codemirror_mode": {
    "name": "ipython",
    "version": 3
   },
   "file_extension": ".py",
   "mimetype": "text/x-python",
   "name": "python",
   "nbconvert_exporter": "python",
   "pygments_lexer": "ipython3",
   "version": "3.10.9"
  }
 },
 "nbformat": 4,
 "nbformat_minor": 5
}
